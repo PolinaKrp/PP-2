{
  "cells": [
    {
      "cell_type": "markdown",
      "metadata": {
        "id": "6-4jT8iqGynf"
      },
      "source": [
        "Создание массивов размера 500, 1000, 1500"
      ]
    },
    {
      "cell_type": "code",
      "execution_count": 1,
      "metadata": {
        "id": "XEspbWv5Gynl"
      },
      "outputs": [],
      "source": [
        "import numpy as np"
      ]
    },
    {
      "cell_type": "code",
      "execution_count": 2,
      "metadata": {
        "id": "k3p9iFkYGynn"
      },
      "outputs": [],
      "source": [
        "for i in range(500, 2000, 500):\n",
        "    matrix = np.random.randint (0, 9, (i, i))\n",
        "    np.savetxt(f\"matrix_{i}.csv\", matrix, delimiter=\",\", fmt=\"%d\")"
      ]
    }
  ],
  "metadata": {
    "kernelspec": {
      "display_name": "Python 3",
      "language": "python",
      "name": "python3"
    },
    "language_info": {
      "codemirror_mode": {
        "name": "ipython",
        "version": 3
      },
      "file_extension": ".py",
      "mimetype": "text/x-python",
      "name": "python",
      "nbconvert_exporter": "python",
      "pygments_lexer": "ipython3",
      "version": "3.10.7"
    },
    "colab": {
      "provenance": []
    }
  },
  "nbformat": 4,
  "nbformat_minor": 0
}